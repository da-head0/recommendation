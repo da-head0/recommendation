{
 "cells": [
  {
   "cell_type": "markdown",
   "source": [
    "# Example Items\n",
    "These are sample items we are going to handle in this exercise."
   ],
   "metadata": {}
  },
  {
   "cell_type": "markdown",
   "source": [
    "![](image1.png)"
   ],
   "metadata": {}
  },
  {
   "cell_type": "markdown",
   "source": [
    "Import necessary packages for the exercise."
   ],
   "metadata": {}
  },
  {
   "cell_type": "code",
   "execution_count": 1,
   "source": [
    "import math\n",
    "import numpy as np"
   ],
   "outputs": [],
   "metadata": {
    "collapsed": true,
    "jupyter": {
     "outputs_hidden": true
    }
   }
  },
  {
   "cell_type": "markdown",
   "source": [
    "# Item Similarity"
   ],
   "metadata": {}
  },
  {
   "cell_type": "markdown",
   "source": [
    "### Weight Matrix\n",
    "Create a binary valued matrix that holds the item's genre accurance in each cell."
   ],
   "metadata": {}
  },
  {
   "cell_type": "code",
   "execution_count": 2,
   "source": [
    "matrix = np.array(\n",
    "    [\n",
    "        [0, 1, 0, 0, 0, 0, 0, 0],\n",
    "        [1, 0, 1, 0, 0, 0, 0, 1],\n",
    "        [0, 1, 0, 0, 1, 0, 0, 0],\n",
    "        [1, 0, 0, 0, 0, 0, 0, 0],\n",
    "        [0, 0, 0, 1, 0, 0, 0, 0],\n",
    "        [0, 0, 0, 1, 1, 0, 0, 0],\n",
    "        [0, 1, 0, 0, 0, 0, 0, 0],\n",
    "        [0, 0, 0, 1, 1, 0, 0, 0],\n",
    "        [0, 0, 0, 0, 0, 1, 1, 1],\n",
    "        [0, 0, 1, 1, 0, 0, 0, 0],\n",
    "        [0, 1, 0, 1, 1, 0, 0, 0]\n",
    "    ]\n",
    ")\n",
    "\n",
    "print(\"Items : \", matrix.shape[0])\n",
    "print(\"Genres: \", matrix.shape[1])"
   ],
   "outputs": [
    {
     "output_type": "stream",
     "name": "stdout",
     "text": [
      "Items :  11\n",
      "Genres:  8\n"
     ]
    }
   ],
   "metadata": {}
  },
  {
   "cell_type": "markdown",
   "source": [
    "Create a matrix that will hold weights for all items.\n",
    "\n",
    "We will compute weights by TF-IDF scheme.\n",
    "* We will use 1 for TF of each genre in items.\n",
    "* We will compute IDFs for genres and assign them in column-wise manner."
   ],
   "metadata": {}
  },
  {
   "cell_type": "code",
   "execution_count": 3,
   "source": [
    "totalItems = matrix.shape[0]\n",
    "totalGenres = matrix.shape[1]\n",
    "\n",
    "weights = np.zeros(matrix.shape)\n",
    "\n",
    "for i in range(0, totalGenres):\n",
    "    col = matrix[:,i]\n",
    "    df = col.sum()\n",
    "    idf = math.log10(totalItems/df)\n",
    "    for j in range(0, totalItems):\n",
    "        weights[j, i] = matrix[j, i] * idf"
   ],
   "outputs": [],
   "metadata": {
    "collapsed": true,
    "jupyter": {
     "outputs_hidden": true
    }
   }
  },
  {
   "cell_type": "markdown",
   "source": [
    "See the weights."
   ],
   "metadata": {}
  },
  {
   "cell_type": "code",
   "execution_count": 4,
   "source": [
    "weights"
   ],
   "outputs": [
    {
     "output_type": "execute_result",
     "data": {
      "text/plain": [
       "array([[0.        , 0.43933269, 0.        , 0.        , 0.        ,\n",
       "        0.        , 0.        , 0.        ],\n",
       "       [0.74036269, 0.        , 0.74036269, 0.        , 0.        ,\n",
       "        0.        , 0.        , 0.74036269],\n",
       "       [0.        , 0.43933269, 0.        , 0.        , 0.43933269,\n",
       "        0.        , 0.        , 0.        ],\n",
       "       [0.74036269, 0.        , 0.        , 0.        , 0.        ,\n",
       "        0.        , 0.        , 0.        ],\n",
       "       [0.        , 0.        , 0.        , 0.34242268, 0.        ,\n",
       "        0.        , 0.        , 0.        ],\n",
       "       [0.        , 0.        , 0.        , 0.34242268, 0.43933269,\n",
       "        0.        , 0.        , 0.        ],\n",
       "       [0.        , 0.43933269, 0.        , 0.        , 0.        ,\n",
       "        0.        , 0.        , 0.        ],\n",
       "       [0.        , 0.        , 0.        , 0.34242268, 0.43933269,\n",
       "        0.        , 0.        , 0.        ],\n",
       "       [0.        , 0.        , 0.        , 0.        , 0.        ,\n",
       "        1.04139269, 1.04139269, 0.74036269],\n",
       "       [0.        , 0.        , 0.74036269, 0.34242268, 0.        ,\n",
       "        0.        , 0.        , 0.        ],\n",
       "       [0.        , 0.43933269, 0.        , 0.34242268, 0.43933269,\n",
       "        0.        , 0.        , 0.        ]])"
      ]
     },
     "metadata": {},
     "execution_count": 4
    }
   ],
   "metadata": {}
  },
  {
   "cell_type": "markdown",
   "source": [
    "### $l_2$-norm\n",
    "Let's define norm2 function for computing l2-norm of a vector, which is represented as an array in np.\n",
    "\n",
    "$$norm2(v)=||v||_2=\\sqrt{\\sum_{\\forall i}v_i^2}$$"
   ],
   "metadata": {}
  },
  {
   "cell_type": "code",
   "execution_count": 5,
   "source": [
    "def norm2(arr):\n",
    "    sum = 0.0\n",
    "    for i in range(0, len(arr)):\n",
    "        sum += arr[i] * arr[i]\n",
    "    return math.sqrt(sum)"
   ],
   "outputs": [],
   "metadata": {
    "collapsed": true,
    "jupyter": {
     "outputs_hidden": true
    }
   }
  },
  {
   "cell_type": "code",
   "execution_count": 6,
   "source": [
    "print(weights[0], \"=>\", norm2(weights[0]))\n",
    "print(weights[1], \"=>\", norm2(weights[1]))"
   ],
   "outputs": [
    {
     "output_type": "stream",
     "name": "stdout",
     "text": [
      "[0.         0.43933269 0.         0.         0.         0.\n",
      " 0.         0.        ] => 0.43933269383026263\n",
      "[0.74036269 0.         0.74036269 0.         0.         0.\n",
      " 0.         0.74036269] => 1.282345794232371\n"
     ]
    }
   ],
   "metadata": {}
  },
  {
   "cell_type": "markdown",
   "source": [
    "### Inner Product\n",
    "\n",
    "Let's define dot function for computin inner product between two vectors.\n",
    "\n",
    "$$dot(u, v)=u\\cdot v=\\sum_{\\forall i}{u_i \\times v_i}$$"
   ],
   "metadata": {}
  },
  {
   "cell_type": "code",
   "execution_count": 7,
   "source": [
    "def dot(arr1, arr2):\n",
    "    sum = 0.0\n",
    "    for i in range(0, len(arr1)):\n",
    "        sum += arr1[i] * arr2[i]\n",
    "    return sum"
   ],
   "outputs": [],
   "metadata": {
    "collapsed": true,
    "jupyter": {
     "outputs_hidden": true
    }
   }
  },
  {
   "cell_type": "code",
   "execution_count": 8,
   "source": [
    "print(dot(weights[0], weights[1]))\n",
    "print(dot(weights[0], weights[2]))\n",
    "print(dot(weights[0], weights[3]))"
   ],
   "outputs": [
    {
     "output_type": "stream",
     "name": "stdout",
     "text": [
      "0.0\n",
      "0.19301321586815529\n",
      "0.0\n"
     ]
    }
   ],
   "metadata": {}
  },
  {
   "cell_type": "markdown",
   "source": [
    "### Cosine Similarity\n",
    "\n",
    "Let's define cosine similarity function for two vectors.\n",
    "\n",
    "$$ cosine(u, v)=\\frac{dot(u,v)}{norm2(u)norm2(v)}=\\frac{u\\cdot v}{||u||_2||v||_2} $$"
   ],
   "metadata": {}
  },
  {
   "cell_type": "code",
   "execution_count": 9,
   "source": [
    "def cosine(arr1, arr2):\n",
    "    return dot(arr1, arr2)/(norm2(arr1)*norm2(arr2))"
   ],
   "outputs": [],
   "metadata": {
    "collapsed": true,
    "jupyter": {
     "outputs_hidden": true
    }
   }
  },
  {
   "cell_type": "code",
   "execution_count": 10,
   "source": [
    "print(cosine(weights[0], weights[1]))\n",
    "print(cosine(weights[0], weights[2]))\n",
    "print(cosine(weights[0], weights[3]))"
   ],
   "outputs": [
    {
     "output_type": "stream",
     "name": "stdout",
     "text": [
      "0.0\n",
      "0.7071067811865475\n",
      "0.0\n"
     ]
    }
   ],
   "metadata": {}
  },
  {
   "cell_type": "markdown",
   "source": [
    "# Easy Computation using `numpy`\n",
    "Let's do this in a more convenient way with *numpy's linalg*"
   ],
   "metadata": {}
  },
  {
   "cell_type": "code",
   "execution_count": 11,
   "source": [
    "from numpy import linalg as LA"
   ],
   "outputs": [],
   "metadata": {
    "collapsed": true,
    "jupyter": {
     "outputs_hidden": true
    }
   }
  },
  {
   "cell_type": "markdown",
   "source": [
    "Compute norms and save it to **`norms`**."
   ],
   "metadata": {}
  },
  {
   "cell_type": "code",
   "execution_count": 12,
   "source": [
    "norms = LA.norm(weights, ord=2, axis=1)\n",
    "norms"
   ],
   "outputs": [
    {
     "output_type": "execute_result",
     "data": {
      "text/plain": [
       "array([0.43933269, 1.28234579, 0.62131025, 0.74036269, 0.34242268,\n",
       "       0.55701572, 0.43933269, 0.55701572, 1.64837325, 0.81571454,\n",
       "       0.70942211])"
      ]
     },
     "metadata": {},
     "execution_count": 12
    }
   ],
   "metadata": {}
  },
  {
   "cell_type": "markdown",
   "source": [
    "Compute inner products among all items. "
   ],
   "metadata": {}
  },
  {
   "cell_type": "code",
   "execution_count": 13,
   "source": [
    "dots = np.matmul(weights, weights.T)\n",
    "dots"
   ],
   "outputs": [
    {
     "output_type": "execute_result",
     "data": {
      "text/plain": [
       "array([[0.19301322, 0.        , 0.19301322, 0.        , 0.        ,\n",
       "        0.        , 0.19301322, 0.        , 0.        , 0.        ,\n",
       "        0.19301322],\n",
       "       [0.        , 1.64441074, 0.        , 0.54813691, 0.        ,\n",
       "        0.        , 0.        , 0.        , 0.54813691, 0.54813691,\n",
       "        0.        ],\n",
       "       [0.19301322, 0.        , 0.38602643, 0.        , 0.        ,\n",
       "        0.19301322, 0.19301322, 0.19301322, 0.        , 0.        ,\n",
       "        0.38602643],\n",
       "       [0.        , 0.54813691, 0.        , 0.54813691, 0.        ,\n",
       "        0.        , 0.        , 0.        , 0.        , 0.        ,\n",
       "        0.        ],\n",
       "       [0.        , 0.        , 0.        , 0.        , 0.11725329,\n",
       "        0.11725329, 0.        , 0.11725329, 0.        , 0.11725329,\n",
       "        0.11725329],\n",
       "       [0.        , 0.        , 0.19301322, 0.        , 0.11725329,\n",
       "        0.31026651, 0.        , 0.31026651, 0.        , 0.11725329,\n",
       "        0.31026651],\n",
       "       [0.19301322, 0.        , 0.19301322, 0.        , 0.        ,\n",
       "        0.        , 0.19301322, 0.        , 0.        , 0.        ,\n",
       "        0.19301322],\n",
       "       [0.        , 0.        , 0.19301322, 0.        , 0.11725329,\n",
       "        0.31026651, 0.        , 0.31026651, 0.        , 0.11725329,\n",
       "        0.31026651],\n",
       "       [0.        , 0.54813691, 0.        , 0.        , 0.        ,\n",
       "        0.        , 0.        , 0.        , 2.71713436, 0.        ,\n",
       "        0.        ],\n",
       "       [0.        , 0.54813691, 0.        , 0.        , 0.11725329,\n",
       "        0.11725329, 0.        , 0.11725329, 0.        , 0.6653902 ,\n",
       "        0.11725329],\n",
       "       [0.19301322, 0.        , 0.38602643, 0.        , 0.11725329,\n",
       "        0.31026651, 0.19301322, 0.31026651, 0.        , 0.11725329,\n",
       "        0.50327972]])"
      ]
     },
     "metadata": {},
     "execution_count": 13
    }
   ],
   "metadata": {}
  },
  {
   "cell_type": "code",
   "execution_count": 14,
   "source": [
    "sims = np.divide(np.divide(dots, norms).T, norms)\n",
    "sims"
   ],
   "outputs": [
    {
     "output_type": "execute_result",
     "data": {
      "text/plain": [
       "array([[1.        , 0.        , 0.70710678, 0.        , 0.        ,\n",
       "        0.        , 1.        , 0.        , 0.        , 0.        ,\n",
       "        0.6192825 ],\n",
       "       [0.        , 1.        , 0.        , 0.57735027, 0.        ,\n",
       "        0.        , 0.        , 0.        , 0.25931542, 0.52401738,\n",
       "        0.        ],\n",
       "       [0.70710678, 0.        , 1.        , 0.        , 0.        ,\n",
       "        0.5577134 , 0.70710678, 0.5577134 , 0.        , 0.        ,\n",
       "        0.87579771],\n",
       "       [0.        , 0.57735027, 0.        , 1.        , 0.        ,\n",
       "        0.        , 0.        , 0.        , 0.        , 0.        ,\n",
       "        0.        ],\n",
       "       [0.        , 0.        , 0.        , 0.        , 1.        ,\n",
       "        0.6147451 , 0.        , 0.6147451 , 0.        , 0.41978249,\n",
       "        0.48267834],\n",
       "       [0.        , 0.        , 0.5577134 , 0.        , 0.6147451 ,\n",
       "        1.        , 0.        , 1.        , 0.        , 0.25805923,\n",
       "        0.78516825],\n",
       "       [1.        , 0.        , 0.70710678, 0.        , 0.        ,\n",
       "        0.        , 1.        , 0.        , 0.        , 0.        ,\n",
       "        0.6192825 ],\n",
       "       [0.        , 0.        , 0.5577134 , 0.        , 0.6147451 ,\n",
       "        1.        , 0.        , 1.        , 0.        , 0.25805923,\n",
       "        0.78516825],\n",
       "       [0.        , 0.25931542, 0.        , 0.        , 0.        ,\n",
       "        0.        , 0.        , 0.        , 1.        , 0.        ,\n",
       "        0.        ],\n",
       "       [0.        , 0.52401738, 0.        , 0.        , 0.41978249,\n",
       "        0.25805923, 0.        , 0.25805923, 0.        , 1.        ,\n",
       "        0.20261991],\n",
       "       [0.6192825 , 0.        , 0.87579771, 0.        , 0.48267834,\n",
       "        0.78516825, 0.6192825 , 0.78516825, 0.        , 0.20261991,\n",
       "        1.        ]])"
      ]
     },
     "metadata": {},
     "execution_count": 14
    }
   ],
   "metadata": {}
  },
  {
   "cell_type": "code",
   "execution_count": 15,
   "source": [
    "sims[0]"
   ],
   "outputs": [
    {
     "output_type": "execute_result",
     "data": {
      "text/plain": [
       "array([1.        , 0.        , 0.70710678, 0.        , 0.        ,\n",
       "       0.        , 1.        , 0.        , 0.        , 0.        ,\n",
       "       0.6192825 ])"
      ]
     },
     "metadata": {},
     "execution_count": 15
    }
   ],
   "metadata": {}
  }
 ],
 "metadata": {
  "interpreter": {
   "hash": "ac2eaa0ea0ebeafcc7822e65e46aa9d4f966f30b695406963e145ea4a91cd4fc"
  },
  "kernelspec": {
   "name": "python3",
   "display_name": "Python 3.9.6 64-bit"
  },
  "language_info": {
   "codemirror_mode": {
    "name": "ipython",
    "version": 3
   },
   "file_extension": ".py",
   "mimetype": "text/x-python",
   "name": "python",
   "nbconvert_exporter": "python",
   "pygments_lexer": "ipython3",
   "version": "3.9.6"
  }
 },
 "nbformat": 4,
 "nbformat_minor": 4
}