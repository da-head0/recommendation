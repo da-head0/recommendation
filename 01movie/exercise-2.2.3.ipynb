{
 "cells": [
  {
   "cell_type": "markdown",
   "source": [
    "# Content-based Movie Rating Estimation\n",
    "\n",
    "Import required packages."
   ],
   "metadata": {}
  },
  {
   "cell_type": "code",
   "execution_count": null,
   "source": [
    "%run liblecture.py\n",
    "\n",
    "import math\n",
    "import numpy as np\n",
    "from numpy import linalg as LA\n",
    "import pandas as pd"
   ],
   "outputs": [],
   "metadata": {}
  },
  {
   "cell_type": "markdown",
   "source": [
    "### Movies Weight Matrix on Genres\n",
    "\n",
    "Read movie metadata from a csv file."
   ],
   "metadata": {}
  },
  {
   "cell_type": "code",
   "execution_count": null,
   "source": [
    "movies = pd.read_csv('movielens/movies_w_imgurl.csv')\n",
    "movies.head()"
   ],
   "outputs": [],
   "metadata": {}
  },
  {
   "cell_type": "markdown",
   "source": [
    "Split genres and stack genres into one column."
   ],
   "metadata": {}
  },
  {
   "cell_type": "code",
   "execution_count": null,
   "source": [
    "movieGenres = pd.DataFrame(data=movies['genres'].str.split('|').apply(pd.Series, 1).stack(), columns=['genre'])\n",
    "movieGenres.index = movieGenres.index.droplevel(1)"
   ],
   "outputs": [],
   "metadata": {}
  },
  {
   "cell_type": "code",
   "execution_count": null,
   "source": [
    "movieGenres"
   ],
   "outputs": [],
   "metadata": {}
  },
  {
   "cell_type": "markdown",
   "source": [
    "Count movies that have each genre and then compute IDF of genres."
   ],
   "metadata": {}
  },
  {
   "cell_type": "code",
   "execution_count": null,
   "source": [
    "genres = pd.DataFrame(data=movieGenres.groupby('genre')['genre'].count())\n",
    "genres.columns = ['movieCount']\n",
    "\n",
    "totalItems = movies.shape[0]\n",
    "\n",
    "genres['idf'] = genres['movieCount'].apply(lambda x: math.log10(totalItems/x))\n",
    "\n",
    "genres.head()"
   ],
   "outputs": [],
   "metadata": {}
  },
  {
   "cell_type": "markdown",
   "source": [
    "Join genre's IDF to movie genre DataFrame."
   ],
   "metadata": {}
  },
  {
   "cell_type": "code",
   "execution_count": null,
   "source": [
    "movieGenreWeights = movieGenres.join(genres['idf'], on='genre')\n",
    "movieGenreWeights"
   ],
   "outputs": [],
   "metadata": {}
  },
  {
   "cell_type": "code",
   "execution_count": null,
   "source": [
    "movieWeights = movies[['movieId']]\n",
    "\n",
    "for genre in genres.index:\n",
    "    movieGenreIdf = movieGenreWeights[movieGenreWeights['genre'] == genre][['idf']]\n",
    "    movieGenreIdf = movieGenreIdf.rename(columns={'idf':genre})\n",
    "    movieWeights = movieWeights.join(movieGenreIdf)\n",
    "\n",
    "movieWeights.fillna(0, inplace=True)"
   ],
   "outputs": [],
   "metadata": {}
  },
  {
   "cell_type": "markdown",
   "source": [
    "### Movie-Movie Cosine Similarity Matrix"
   ],
   "metadata": {}
  },
  {
   "cell_type": "markdown",
   "source": [
    "Compute $l_2$-norm of movies."
   ],
   "metadata": {}
  },
  {
   "cell_type": "code",
   "execution_count": null,
   "source": [
    "movieNorms = pd.DataFrame(data = LA.norm(movieWeights.iloc[:,1:].values, ord=2, axis=1), index=movieWeights.index, columns=['norm2'])\n",
    "movieNorms"
   ],
   "outputs": [],
   "metadata": {}
  },
  {
   "cell_type": "markdown",
   "source": [
    "Normalize movie vector so that similarity can be computed simply by inner product between vectors.\n",
    "\n",
    "$$ cosine(u, v)=\\frac{\\sum_{\\forall i}{u_i v_i}}{||u||_2||v||_2}=\\sum_{\\forall i}{\\frac{u_i v_i}{||u||_2||v||_2}}=\\sum_{\\forall i}{\\frac{u_i}{||u||_2}\\frac{v_i}{||v||_2}}=u'\\cdot v'$$"
   ],
   "metadata": {}
  },
  {
   "cell_type": "code",
   "execution_count": null,
   "source": [
    "normalizedMovieWeights = movieWeights.iloc[:, 1:].divide(movieNorms['norm2'], axis=0)\n",
    "\n",
    "normalizedMovieWeights"
   ],
   "outputs": [],
   "metadata": {}
  },
  {
   "cell_type": "markdown",
   "source": [
    "Create item-item similarity matrix"
   ],
   "metadata": {}
  },
  {
   "cell_type": "code",
   "execution_count": null,
   "source": [
    "sims = pd.DataFrame(data=np.matmul(normalizedMovieWeights, normalizedMovieWeights.T))\n",
    "\n",
    "sims.index = movieWeights['movieId']\n",
    "sims.columns = movieWeights['movieId']\n",
    "\n",
    "sims"
   ],
   "outputs": [],
   "metadata": {}
  },
  {
   "cell_type": "markdown",
   "source": [
    "## Recommend Movies based on Predicted Ratings"
   ],
   "metadata": {}
  },
  {
   "cell_type": "markdown",
   "source": [
    "Read ratings as train and test datasets."
   ],
   "metadata": {}
  },
  {
   "cell_type": "code",
   "execution_count": null,
   "source": [
    "ratings = pd.read_csv('ratings-9_1.csv')\n",
    "\n",
    "train = ratings[ratings['type'] == 'train'][['userId', 'movieId', 'rating']]\n",
    "test = ratings[ratings['type'] == 'test'][['userId', 'movieId', 'rating']]"
   ],
   "outputs": [],
   "metadata": {}
  },
  {
   "cell_type": "markdown",
   "source": [
    "Set test user ID"
   ],
   "metadata": {}
  },
  {
   "cell_type": "code",
   "execution_count": null,
   "source": [
    "userId = 33"
   ],
   "outputs": [],
   "metadata": {}
  },
  {
   "cell_type": "markdown",
   "source": [
    "Check top rated movies of the test user"
   ],
   "metadata": {}
  },
  {
   "cell_type": "code",
   "execution_count": null,
   "source": [
    "userRatings = train[train['userId'] == userId][['movieId', 'rating']] \n",
    "\n",
    "topRatings = userRatings.sort_values(by='rating', ascending=False).head(20)\n",
    "\n",
    "topRatings\n",
    "\n",
    "displayMovies(movies, topRatings['movieId'].values, topRatings['rating'].values)"
   ],
   "outputs": [],
   "metadata": {}
  },
  {
   "cell_type": "markdown",
   "source": [
    "Predict item ratings for the test users."
   ],
   "metadata": {}
  },
  {
   "cell_type": "code",
   "execution_count": null,
   "source": [
    "recSimSums = sims.loc[userRatings['movieId'].values, :].sum().values\n",
    "\n",
    "recSimSums = recSimSums + 1\n",
    "\n",
    "recWeightedRatingSums = np.matmul(sims.loc[userRatings['movieId'].values, :].T.values, userRatings['rating'].values)\n",
    "\n",
    "recItemRatings = pd.DataFrame(data = np.divide(recWeightedRatingSums, recSimSums), index=sims.index)\n",
    "\n",
    "recItemRatings.columns = ['pred']\n",
    "\n",
    "recItemRatings\n",
    "\n",
    "# np.matmul()"
   ],
   "outputs": [],
   "metadata": {}
  },
  {
   "cell_type": "markdown",
   "source": [
    "Check recommended items"
   ],
   "metadata": {}
  },
  {
   "cell_type": "code",
   "execution_count": null,
   "source": [
    "top30Movies = recItemRatings.sort_values(by='pred', ascending=False).head(30)\n",
    "\n",
    "displayMovies(movies, top30Movies.index, top30Movies['pred'].values)"
   ],
   "outputs": [],
   "metadata": {}
  },
  {
   "cell_type": "markdown",
   "source": [
    "Compute MAE and RMSE for the test user."
   ],
   "metadata": {}
  },
  {
   "cell_type": "code",
   "execution_count": null,
   "source": [
    "userTestRatings = pd.DataFrame(data=test[test['userId'] == userId])\n",
    "\n",
    "temp = userTestRatings.join(recItemRatings.loc[userTestRatings['movieId']], on='movieId')\n",
    "\n",
    "mae = getMAE(temp['rating'], temp['pred'])\n",
    "rmse = getRMSE(temp['rating'], temp['pred'])\n",
    "\n",
    "print(f\"MAE : {mae:.4f}\")\n",
    "print(f\"RMSE: {rmse:.4f}\")"
   ],
   "outputs": [],
   "metadata": {}
  }
 ],
 "metadata": {
  "interpreter": {
   "hash": "ac2eaa0ea0ebeafcc7822e65e46aa9d4f966f30b695406963e145ea4a91cd4fc"
  },
  "kernelspec": {
   "name": "python3",
   "display_name": "Python 3.9.6 64-bit"
  },
  "language_info": {
   "codemirror_mode": {
    "name": "ipython",
    "version": 3
   },
   "file_extension": ".py",
   "mimetype": "text/x-python",
   "name": "python",
   "nbconvert_exporter": "python",
   "pygments_lexer": "ipython3",
   "version": "3.9.6"
  }
 },
 "nbformat": 4,
 "nbformat_minor": 4
}