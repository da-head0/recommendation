{
 "cells": [
  {
   "cell_type": "markdown",
   "metadata": {},
   "source": [
    "# Personalized Recommendation"
   ]
  },
  {
   "cell_type": "markdown",
   "metadata": {},
   "source": [
    "## Initialize Database & Libraries"
   ]
  },
  {
   "cell_type": "code",
   "execution_count": 1,
   "metadata": {},
   "outputs": [],
   "source": [
    "%reload_ext sql\n",
    "%run lib.py\n",
    "\n",
    "%sql postgresql+psycopg2://postgres:@127.0.0.1:5432/fcrec"
   ]
  },
  {
   "cell_type": "markdown",
   "metadata": {},
   "source": [
    "## Set Test User and Check History\n",
    "\n",
    "check logs of a user [++MXKfwkOw4VFn9HkVCRrw==]"
   ]
  },
  {
   "cell_type": "code",
   "execution_count": 3,
   "metadata": {},
   "outputs": [
    {
     "data": {
      "text/html": [
       "<table><thead><tr><td>image</td><td>session_id</td><td>event_timestamp</td><td>item_no</td><td>item_name</td><td>category1_name</td><td>category2_name</td><td>category3_name</td><td>price</td><td>brand_name</td></tr></thead><tr><td><img src=\"http://fcrec.bunjang.io/img/99fa38dd8bf37e222e74a605f0042807.jpg\" width=200 style=\"display:inline-block\"></td><td>bca82e41ee7b0833588399b1fcd177c7</td><td>2021-07-23 16:32:14.841136</td><td>1+pqWFazLqQAJSBMdZ8pMw==</td><td>[이사배,유아 착용] [silver925] blossom bracelet</td><td>잡화</td><td>주얼리</td><td>팔찌</td><td>60000.0</td><td>roaju</td></tr><tr><td><img src=\"http://fcrec.bunjang.io/img/2c2f2aba50a081b7b9d72295374b0b0a.jpg\" width=200 style=\"display:inline-block\"></td><td>bca82e41ee7b0833588399b1fcd177c7</td><td>2021-07-23 16:24:50.823015</td><td>cvzxtllmGTglR+SVGjRiKw==</td><td>[unisex]TWEED BLACK  BUCKET HAT</td><td>잡화</td><td>모자</td><td>버킷햇</td><td>44000.0</td><td>sleepyslip</td></tr><tr><td><img src=\"http://fcrec.bunjang.io/img/2c2f2aba50a081b7b9d72295374b0b0a.jpg\" width=200 style=\"display:inline-block\"></td><td>bca82e41ee7b0833588399b1fcd177c7</td><td>2021-07-23 16:24:47.413003</td><td>cvzxtllmGTglR+SVGjRiKw==</td><td>[unisex]TWEED BLACK  BUCKET HAT</td><td>잡화</td><td>모자</td><td>버킷햇</td><td>44000.0</td><td>sleepyslip</td></tr><tr><td><img src=\"http://fcrec.bunjang.io/img/84d2189ac05ff4309ba3eb027890ba03.jpg\" width=200 style=\"display:inline-block\"></td><td>bca82e41ee7b0833588399b1fcd177c7</td><td>2021-07-23 16:23:15.208033</td><td>OH7asqBmkHaSxKb8mw/WNg==</td><td>[unisex]GLENCHECH NAVY BUCKET HAT</td><td>잡화</td><td>모자</td><td>버킷햇</td><td>56000.0</td><td>sleepyslip</td></tr><tr><td><img src=\"http://fcrec.bunjang.io/img/058602384824e1f94330ed960d0f227f.jpg\" width=200 style=\"display:inline-block\"></td><td>bca82e41ee7b0833588399b1fcd177c7</td><td>2021-07-23 16:21:36.694017</td><td>VYGimxgPANog/nRMZ0O1mw==</td><td>[unisex]STITCH WOOL BLACK BUCKET HAT</td><td>잡화</td><td>모자</td><td>버킷햇</td><td>56000.0</td><td>sleepyslip</td></tr><tr><td><img src=\"http://fcrec.bunjang.io/img/1afc849f4fe736b8602aa275e5c46229.jpg\" width=200 style=\"display:inline-block\"></td><td>a02ffd91ece5e7efeb46db8f10a74059</td><td>2021-07-20 06:59:53.616130</td><td>RBm42X6EPR25ERPNqEj5mA==</td><td>vienna layered anklet</td><td>잡화</td><td>주얼리</td><td>발찌</td><td>56000.0</td><td>Hei</td></tr><tr><td><img src=\"http://fcrec.bunjang.io/img/4e713d30a0f14a67e7023734b4b41422.jpg\" width=200 style=\"display:inline-block\"></td><td>a02ffd91ece5e7efeb46db8f10a74059</td><td>2021-07-20 06:59:01.905118</td><td>2AmJgXyJXsjaqr27jy08UA==</td><td>[태민 착용] ball chain layered bracelet</td><td>잡화</td><td>주얼리</td><td>팔찌</td><td>49000.0</td><td>Hei</td></tr><tr><td><img src=\"http://fcrec.bunjang.io/img/a82e692263dcadcac579d2115fb8e5ef.jpg\" width=200 style=\"display:inline-block\"></td><td>a02ffd91ece5e7efeb46db8f10a74059</td><td>2021-07-20 06:57:33.551098</td><td>QJ/0MTR30pqYMFSPRU/r9Q==</td><td>[비비, 최수영, 조이현 착용] unbalance chain earring</td><td>잡화</td><td>주얼리</td><td>귀걸이</td><td>52000.0</td><td>Hei</td></tr><tr><td><img src=\"http://fcrec.bunjang.io/img/dacd126819f2ae790649ad9273795ab8.jpg\" width=200 style=\"display:inline-block\"></td><td>a02ffd91ece5e7efeb46db8f10a74059</td><td>2021-07-20 06:56:59.769086</td><td>b/pABsFJ4F4CuZJX6G3/wQ==</td><td>[트와이스 미나, 오마이걸 아린&승희, 형원 착용] coral set ring</td><td>잡화</td><td>주얼리</td><td>반지</td><td>21000.0</td><td>Hei</td></tr><tr><td><img src=\"http://fcrec.bunjang.io/img/27a0db6a36cf988b06d9078068d88c5c.jpg\" width=200 style=\"display:inline-block\"></td><td>a02ffd91ece5e7efeb46db8f10a74059</td><td>2021-07-20 06:55:27.326070</td><td>UqyVlzDDSbJLTH6fHqa1aQ==</td><td>[오마이걸 유아&지호, 써니, SF9찬희, 우아 나나 착용] rainbow daisy bracelet</td><td>잡화</td><td>주얼리</td><td>팔찌</td><td>39000.0</td><td>Hei</td></tr><tr><td><img src=\"http://fcrec.bunjang.io/img/8614d3c131baa4f1f920873e1cefc00e.jpg\" width=200 style=\"display:inline-block\"></td><td>8bf1211fd4b7b94528899de0a43b9fb3</td><td>2021-07-18 12:41:15.454076</td><td>OOcVPtrWcvphW6ypSiY35w==</td><td>JARDIN TEE_BLACK</td><td>의류</td><td>상의</td><td>티셔츠</td><td>39000.0</td><td>HAE BY HAEKIM</td></tr><tr><td><img src=\"http://fcrec.bunjang.io/img/b8cbddc339cb5cf874c46edd23386fca.jpg\" width=200 style=\"display:inline-block\"></td><td>8bf1211fd4b7b94528899de0a43b9fb3</td><td>2021-07-18 12:41:09.212064</td><td>ixyIBDNhGMYSmxcAbgqT9Q==</td><td>SQUARE NECK TOP_BEIGE</td><td>의류</td><td>상의</td><td>티셔츠</td><td>39000.0</td><td>HAE BY HAEKIM</td></tr><tr><td><img src=\"http://fcrec.bunjang.io/img/7efc7862216655eee4eff8db2e5f5ad8.jpg\" width=200 style=\"display:inline-block\"></td><td>8bf1211fd4b7b94528899de0a43b9fb3</td><td>2021-07-18 12:40:43.250052</td><td>M1zbAnOt7jc662SV1NgIvw==</td><td>PEARL TEE_PINK</td><td>의류</td><td>상의</td><td>티셔츠</td><td>59000.0</td><td>HAE BY HAEKIM</td></tr><tr><td><img src=\"http://fcrec.bunjang.io/img/7efc7862216655eee4eff8db2e5f5ad8.jpg\" width=200 style=\"display:inline-block\"></td><td>8bf1211fd4b7b94528899de0a43b9fb3</td><td>2021-07-18 12:40:38.481040</td><td>M1zbAnOt7jc662SV1NgIvw==</td><td>PEARL TEE_PINK</td><td>의류</td><td>상의</td><td>티셔츠</td><td>59000.0</td><td>HAE BY HAEKIM</td></tr><tr><td><img src=\"http://fcrec.bunjang.io/img/2a09f3c66c609e9e4b6028bb1e4dc811.jpg\" width=200 style=\"display:inline-block\"></td><td>8bf1211fd4b7b94528899de0a43b9fb3</td><td>2021-07-18 12:40:27.229028</td><td>LsaI+amLHqw9C4MWNhaGvw==</td><td>STITCH SLIP DRESS_DEEP GREEN</td><td>의류</td><td>원피스/점프수트</td><td>원피스</td><td>149000.0</td><td>HAE BY HAEKIM</td></tr><tr><td><img src=\"http://fcrec.bunjang.io/img/76f0edb365ad6e1fb802d1d98bfc46d1.jpg\" width=200 style=\"display:inline-block\"></td><td>8bf1211fd4b7b94528899de0a43b9fb3</td><td>2021-07-18 12:40:22.307016</td><td>Pm8QdAQI3RslPXz66xzrEA==</td><td>KNOT BLOUSE_BLACK</td><td>의류</td><td>상의</td><td>셔츠/블라우스</td><td>89000.0</td><td>HAE BY HAEKIM</td></tr><tr><td><img src=\"http://fcrec.bunjang.io/img/8755127d88c3c35d79f35a1ac24deed1.jpg\" width=200 style=\"display:inline-block\"></td><td>8bf1211fd4b7b94528899de0a43b9fb3</td><td>2021-07-18 12:40:04.409004</td><td>gic+0IOksgB5X0QujAn2Eg==</td><td>BOAT NECK WRAP DRESS_MINT</td><td>의류</td><td>원피스/점프수트</td><td>원피스</td><td>149000.0</td><td>HAE BY HAEKIM</td></tr><tr><td><img src=\"http://fcrec.bunjang.io/img/d816bdfb2528912b75586e289899b2f9.jpg\" width=200 style=\"display:inline-block\"></td><td>8bf1211fd4b7b94528899de0a43b9fb3</td><td>2021-07-18 12:39:26.710088</td><td>0wVpS6nhrNPHsRTw5nrwdQ==</td><td>BAND SHIRRING BLOUSE_BLACK</td><td>의류</td><td>상의</td><td>셔츠/블라우스</td><td>89000.0</td><td>HAE BY HAEKIM</td></tr><tr><td><img src=\"http://fcrec.bunjang.io/img/f42394ec6270089d24b49c8ac4d28fb5.jpg\" width=200 style=\"display:inline-block\"></td><td>8bf1211fd4b7b94528899de0a43b9fb3</td><td>2021-07-18 12:38:28.025072</td><td>deysFg9h3LJx+5JwbjrO0A==</td><td>TWIST PLEATS DRESS_BLACK</td><td>의류</td><td>원피스/점프수트</td><td>원피스</td><td>179000.0</td><td>HAE BY HAEKIM</td></tr><tr><td><img src=\"http://fcrec.bunjang.io/img/a42a92adc4271e57ae8676ffbbe14083.jpg\" width=200 style=\"display:inline-block\"></td><td>8bf1211fd4b7b94528899de0a43b9fb3</td><td>2021-07-18 12:38:20.673060</td><td>LPiNzHhqiH3twOSGdWnyZg==</td><td>V-NECK VOLUME SLEEVE DRESS_BLACK</td><td>의류</td><td>원피스/점프수트</td><td>원피스</td><td>169000.0</td><td>HAE BY HAEKIM</td></tr></table>"
      ],
      "text/plain": [
       "<IPython.core.display.HTML object>"
      ]
     },
     "metadata": {},
     "output_type": "display_data"
    }
   ],
   "source": [
    "query = f'''\n",
    "    select a.session_id, a.event_timestamp, a.user_no, b.*\n",
    "    from cmc_event a join cmc_product b on b.item_no = a.item_no \n",
    "    where user_no = '++MXKfwkOw4VFn9HkVCRrw=='\n",
    "        and event_timestamp between '2021-07-18' and '2021-07-25'\n",
    "    order by event_timestamp desc\n",
    "    limit 20;\n",
    "    '''\n",
    "\n",
    "result = executeQuery(query)\n",
    "result\n",
    "\n",
    "displayItemDetailInRows(result)"
   ]
  },
  {
   "cell_type": "markdown",
   "metadata": {},
   "source": [
    "# Recommend based on Item Similarity"
   ]
  },
  {
   "cell_type": "code",
   "execution_count": 4,
   "metadata": {},
   "outputs": [],
   "source": [
    "query1 = f'''\n",
    "\twith rec as (\n",
    "\t\tselect b.b_item_no, sum(a.time_weight * b.sim) score\n",
    "\t\tfrom (\n",
    "\t\t\tselect item_no, pow(0.9, (date_part('day', to_timestamp('2021-07-25', 'YYYY-MM-DD') - event_timestamp) * 24 + date_part('hour', to_timestamp('2021-07-25', 'YYYY-MM-DD') - event_timestamp))/12) time_weight \n",
    "\t\t\tfrom cmc_event \n",
    "\t\t\twhere user_no = '++MXKfwkOw4VFn9HkVCRrw=='\n",
    "\t\t\t\tand event_timestamp between '2021-07-18' and '2021-07-25'\n",
    "\t\t\torder by event_timestamp desc\n",
    "\t\t\tlimit 10\n",
    "\t\t\t) a \n",
    "\t\t\tjoin \n",
    "\t\t\t(\n",
    "\t\t\tselect a_item_no, b_item_no, sim\n",
    "\t\t\tfrom (\n",
    "\t\t\t\tselect a_item_no, b_item_no, sim, row_number() over (partition by a_item_no order by sim desc) rank\n",
    "\t\t\t\tfrom (\n",
    "\t\t\t\t\tselect a.item_no a_item_no, b.item_no b_item_no, sum(a.w * b.w) sim\n",
    "\t\t\t\t\tfrom cmc_session_product_click_w a \n",
    "\t\t\t\t\t\tjoin cmc_session_product_click_w b on a.session_id = b.session_id and a.item_no != b.item_no \n",
    "\t\t\t\t\twhere a.item_no in (\n",
    "\t\t\t\t\t\tselect item_no\n",
    "\t\t\t\t\t\tfrom cmc_event \n",
    "\t\t\t\t\t\twhere user_no = '++MXKfwkOw4VFn9HkVCRrw=='\n",
    "\t\t\t\t\t\t\tand event_timestamp between '2021-07-18' and '2021-07-25'\n",
    "\t\t\t\t\t\torder by event_timestamp desc\n",
    "\t\t\t\t\t\tlimit 10 )\n",
    "\t\t\t\t\tgroup by a.item_no, b.item_no ) t\n",
    "\t\t\t\t) t\n",
    "\t\t\twhere rank <= 20\n",
    "\t\t\t) as b on a.item_no = b.a_item_no\n",
    "\t\tgroup by b.b_item_no\n",
    "\t\torder by score desc\n",
    "\t\tlimit 20 )\n",
    "\tselect a.score, b.*\n",
    "\tfrom rec a join cmc_product b on a.b_item_no = b.item_no;\n",
    "\t'''\n",
    "\n",
    "result1 = executeQuery(query1)"
   ]
  },
  {
   "cell_type": "code",
   "execution_count": 5,
   "metadata": {},
   "outputs": [
    {
     "name": "stdout",
     "output_type": "stream",
     "text": [
      "User Hisotry\n"
     ]
    },
    {
     "data": {
      "text/html": [
       "<img src=\"http://fcrec.bunjang.io/img/99fa38dd8bf37e222e74a605f0042807.jpg\" width=170 style=\"display:inline-block\" title=\"1+pqWFazLqQAJSBMdZ8pMw== [이사배,유아 착용] [silver925] blossom bracelet\"><img src=\"http://fcrec.bunjang.io/img/2c2f2aba50a081b7b9d72295374b0b0a.jpg\" width=170 style=\"display:inline-block\" title=\"cvzxtllmGTglR+SVGjRiKw== [unisex]TWEED BLACK  BUCKET HAT\"><img src=\"http://fcrec.bunjang.io/img/2c2f2aba50a081b7b9d72295374b0b0a.jpg\" width=170 style=\"display:inline-block\" title=\"cvzxtllmGTglR+SVGjRiKw== [unisex]TWEED BLACK  BUCKET HAT\"><img src=\"http://fcrec.bunjang.io/img/84d2189ac05ff4309ba3eb027890ba03.jpg\" width=170 style=\"display:inline-block\" title=\"OH7asqBmkHaSxKb8mw/WNg== [unisex]GLENCHECH NAVY BUCKET HAT\"><img src=\"http://fcrec.bunjang.io/img/058602384824e1f94330ed960d0f227f.jpg\" width=170 style=\"display:inline-block\" title=\"VYGimxgPANog/nRMZ0O1mw== [unisex]STITCH WOOL BLACK BUCKET HAT\"><img src=\"http://fcrec.bunjang.io/img/1afc849f4fe736b8602aa275e5c46229.jpg\" width=170 style=\"display:inline-block\" title=\"RBm42X6EPR25ERPNqEj5mA== vienna layered anklet\"><img src=\"http://fcrec.bunjang.io/img/4e713d30a0f14a67e7023734b4b41422.jpg\" width=170 style=\"display:inline-block\" title=\"2AmJgXyJXsjaqr27jy08UA== [태민 착용] ball chain layered bracelet\"><img src=\"http://fcrec.bunjang.io/img/a82e692263dcadcac579d2115fb8e5ef.jpg\" width=170 style=\"display:inline-block\" title=\"QJ/0MTR30pqYMFSPRU/r9Q== [비비, 최수영, 조이현 착용] unbalance chain earring\"><img src=\"http://fcrec.bunjang.io/img/dacd126819f2ae790649ad9273795ab8.jpg\" width=170 style=\"display:inline-block\" title=\"b/pABsFJ4F4CuZJX6G3/wQ== [트와이스 미나, 오마이걸 아린&승희, 형원 착용] coral set ring\"><img src=\"http://fcrec.bunjang.io/img/27a0db6a36cf988b06d9078068d88c5c.jpg\" width=170 style=\"display:inline-block\" title=\"UqyVlzDDSbJLTH6fHqa1aQ== [오마이걸 유아&지호, 써니, SF9찬희, 우아 나나 착용] rainbow daisy bracelet\"><img src=\"http://fcrec.bunjang.io/img/8614d3c131baa4f1f920873e1cefc00e.jpg\" width=170 style=\"display:inline-block\" title=\"OOcVPtrWcvphW6ypSiY35w== JARDIN TEE_BLACK\"><img src=\"http://fcrec.bunjang.io/img/b8cbddc339cb5cf874c46edd23386fca.jpg\" width=170 style=\"display:inline-block\" title=\"ixyIBDNhGMYSmxcAbgqT9Q== SQUARE NECK TOP_BEIGE\"><img src=\"http://fcrec.bunjang.io/img/7efc7862216655eee4eff8db2e5f5ad8.jpg\" width=170 style=\"display:inline-block\" title=\"M1zbAnOt7jc662SV1NgIvw== PEARL TEE_PINK\"><img src=\"http://fcrec.bunjang.io/img/7efc7862216655eee4eff8db2e5f5ad8.jpg\" width=170 style=\"display:inline-block\" title=\"M1zbAnOt7jc662SV1NgIvw== PEARL TEE_PINK\"><img src=\"http://fcrec.bunjang.io/img/2a09f3c66c609e9e4b6028bb1e4dc811.jpg\" width=170 style=\"display:inline-block\" title=\"LsaI+amLHqw9C4MWNhaGvw== STITCH SLIP DRESS_DEEP GREEN\"><img src=\"http://fcrec.bunjang.io/img/76f0edb365ad6e1fb802d1d98bfc46d1.jpg\" width=170 style=\"display:inline-block\" title=\"Pm8QdAQI3RslPXz66xzrEA== KNOT BLOUSE_BLACK\"><img src=\"http://fcrec.bunjang.io/img/8755127d88c3c35d79f35a1ac24deed1.jpg\" width=170 style=\"display:inline-block\" title=\"gic+0IOksgB5X0QujAn2Eg== BOAT NECK WRAP DRESS_MINT\"><img src=\"http://fcrec.bunjang.io/img/d816bdfb2528912b75586e289899b2f9.jpg\" width=170 style=\"display:inline-block\" title=\"0wVpS6nhrNPHsRTw5nrwdQ== BAND SHIRRING BLOUSE_BLACK\"><img src=\"http://fcrec.bunjang.io/img/f42394ec6270089d24b49c8ac4d28fb5.jpg\" width=170 style=\"display:inline-block\" title=\"deysFg9h3LJx+5JwbjrO0A== TWIST PLEATS DRESS_BLACK\"><img src=\"http://fcrec.bunjang.io/img/a42a92adc4271e57ae8676ffbbe14083.jpg\" width=170 style=\"display:inline-block\" title=\"LPiNzHhqiH3twOSGdWnyZg== V-NECK VOLUME SLEEVE DRESS_BLACK\">"
      ],
      "text/plain": [
       "<IPython.core.display.HTML object>"
      ]
     },
     "metadata": {},
     "output_type": "display_data"
    },
    {
     "name": "stdout",
     "output_type": "stream",
     "text": [
      "Recommended Items\n"
     ]
    },
    {
     "data": {
      "text/html": [
       "<img src=\"http://fcrec.bunjang.io/img/4e713d30a0f14a67e7023734b4b41422.jpg\" width=170 style=\"display:inline-block\" title=\"2AmJgXyJXsjaqr27jy08UA== [태민 착용] ball chain layered bracelet\"><img src=\"http://fcrec.bunjang.io/img/4724d3f52721d7eda4c3f06b40ef0bcb.jpg\" width=170 style=\"display:inline-block\" title=\"O3w8pMtUuFh4CijDmoJnEQ== [박지훈, 배누리 착용] cross chain necklace\"><img src=\"http://fcrec.bunjang.io/img/27a0db6a36cf988b06d9078068d88c5c.jpg\" width=170 style=\"display:inline-block\" title=\"UqyVlzDDSbJLTH6fHqa1aQ== [오마이걸 유아&지호, 써니, SF9찬희, 우아 나나 착용] rainbow daisy bracelet\"><img src=\"http://fcrec.bunjang.io/img/21c820a1635b66d920de3ca0970ae57a.jpg\" width=170 style=\"display:inline-block\" title=\"V/a6ARC9FdloR65/WRCbWQ== [에스파 윈터, 오마이걸 아린, 최수영 착용] slim layered 3set ring\"><img src=\"http://fcrec.bunjang.io/img/2ebaa07714218757e215a0b1b53ee1ee.jpg\" width=170 style=\"display:inline-block\" title=\"SCF2ka2tzUeLu1nP7tjZkA== [문별 착용]unlock necklace\"><img src=\"http://fcrec.bunjang.io/img/058602384824e1f94330ed960d0f227f.jpg\" width=170 style=\"display:inline-block\" title=\"VYGimxgPANog/nRMZ0O1mw== [unisex]STITCH WOOL BLACK BUCKET HAT\"><img src=\"http://fcrec.bunjang.io/img/3e40e81dd49454b2d2a6753a9f8fe183.jpg\" width=170 style=\"display:inline-block\" title=\"aWj7pZmZ/uSuFUAfsa9YYw== [화사, ITZY 유나, 채령, 박지훈, 김우석 착용] cube ball chain bracelet\"><img src=\"http://fcrec.bunjang.io/img/99fa38dd8bf37e222e74a605f0042807.jpg\" width=170 style=\"display:inline-block\" title=\"1+pqWFazLqQAJSBMdZ8pMw== [이사배,유아 착용] [silver925] blossom bracelet\"><img src=\"http://fcrec.bunjang.io/img/9ab7b3c7e618828bf11c751f62f16225.jpg\" width=170 style=\"display:inline-block\" title=\"FEg0ZbsHNsKu9GU/RDnoSw== basel setting ring\"><img src=\"http://fcrec.bunjang.io/img/2c2f2aba50a081b7b9d72295374b0b0a.jpg\" width=170 style=\"display:inline-block\" title=\"cvzxtllmGTglR+SVGjRiKw== [unisex]TWEED BLACK  BUCKET HAT\"><img src=\"http://fcrec.bunjang.io/img/84748e39c4ee527a85f6b4df27108420.jpg\" width=170 style=\"display:inline-block\" title=\"53T/SDSS/Ypxr+t5INoeBg== [레드벨벳 웬디 착용] move pearl layered necklace\"><img src=\"http://fcrec.bunjang.io/img/2bc8939a30efd88ba4a167ce031b3e92.jpg\" width=170 style=\"display:inline-block\" title=\"BscjfsxKSSNmn++Yb1ZQVA== [류이서,지숙 착용][silver925]half pearl hook earring\"><img src=\"http://fcrec.bunjang.io/img/84d2189ac05ff4309ba3eb027890ba03.jpg\" width=170 style=\"display:inline-block\" title=\"OH7asqBmkHaSxKb8mw/WNg== [unisex]GLENCHECH NAVY BUCKET HAT\"><img src=\"http://fcrec.bunjang.io/img/a82e692263dcadcac579d2115fb8e5ef.jpg\" width=170 style=\"display:inline-block\" title=\"QJ/0MTR30pqYMFSPRU/r9Q== [비비, 최수영, 조이현 착용] unbalance chain earring\"><img src=\"http://fcrec.bunjang.io/img/dacd126819f2ae790649ad9273795ab8.jpg\" width=170 style=\"display:inline-block\" title=\"b/pABsFJ4F4CuZJX6G3/wQ== [트와이스 미나, 오마이걸 아린&승희, 형원 착용] coral set ring\"><img src=\"http://fcrec.bunjang.io/img/349f54bec666dd48824bcd2bb38836b9.jpg\" width=170 style=\"display:inline-block\" title=\"h6vS+t8GQKH1htEFjcNcHA== [김아중, 아이엠, 우즈(조승연) 착용] honeybee one touch earring\"><img src=\"http://fcrec.bunjang.io/img/d8eef6ba4d5a07499e7a8c86ff2d9451.jpg\" width=170 style=\"display:inline-block\" title=\"BwHNO+qX1MWcqRV2wS9ipw== EGG MINI BAG\"><img src=\"http://fcrec.bunjang.io/img/1afc849f4fe736b8602aa275e5c46229.jpg\" width=170 style=\"display:inline-block\" title=\"RBm42X6EPR25ERPNqEj5mA== vienna layered anklet\"><img src=\"http://fcrec.bunjang.io/img/a46e4cf979c0f250822554886abaf8c5.jpg\" width=170 style=\"display:inline-block\" title=\"bLxfG6z17UPLSd4dcXYLKA== [웬디, 기현, 문별, 이승윤, 소연 착용] daisy silver ball bracelet\"><img src=\"http://fcrec.bunjang.io/img/426d9684526df07bc59d9e096746f5b2.jpg\" width=170 style=\"display:inline-block\" title=\"z2PlBh1OVXYxumappZ+isw== [지호,아린,미연,미주 착용] [silver925] Chupa Chups necklace\">"
      ],
      "text/plain": [
       "<IPython.core.display.HTML object>"
      ]
     },
     "metadata": {},
     "output_type": "display_data"
    }
   ],
   "source": [
    "print('User Hisotry')\n",
    "displayItemInRows(result)\n",
    "\n",
    "print('Recommended Items')\n",
    "displayItemInRows(result1)"
   ]
  },
  {
   "cell_type": "markdown",
   "metadata": {},
   "source": [
    "# User-based Personalization (kNN)"
   ]
  },
  {
   "cell_type": "code",
   "execution_count": 7,
   "metadata": {},
   "outputs": [],
   "source": [
    "query2 = '''\n",
    "    with rec as (\n",
    "        select b.item_no, sum(a.sim * b.w) score\n",
    "        from (\n",
    "            select b.user_no, sum(a.w * b.w) sim\n",
    "            from cmc_user_product_click_w a join cmc_user_product_click_w b on a.item_no = b.item_no and a.user_no != b.user_no \n",
    "            where a.user_no = '++MXKfwkOw4VFn9HkVCRrw=='\n",
    "            group by b.user_no\n",
    "            order by sim desc\n",
    "            limit 20 ) a\n",
    "            join cmc_user_product_click_w b on b.user_no = a.user_no\n",
    "        group by b.item_no\n",
    "        order by score desc\n",
    "        limit 20)\n",
    "    select a.score, b.*\n",
    "    from rec a join cmc_product b on a.item_no = b.item_no\n",
    "    '''\n",
    "result2 = executeQuery(query2)"
   ]
  },
  {
   "cell_type": "code",
   "execution_count": 8,
   "metadata": {},
   "outputs": [
    {
     "name": "stdout",
     "output_type": "stream",
     "text": [
      "User Hisotry\n"
     ]
    },
    {
     "data": {
      "text/html": [
       "<img src=\"http://fcrec.bunjang.io/img/99fa38dd8bf37e222e74a605f0042807.jpg\" width=170 style=\"display:inline-block\" title=\"1+pqWFazLqQAJSBMdZ8pMw== [이사배,유아 착용] [silver925] blossom bracelet\"><img src=\"http://fcrec.bunjang.io/img/2c2f2aba50a081b7b9d72295374b0b0a.jpg\" width=170 style=\"display:inline-block\" title=\"cvzxtllmGTglR+SVGjRiKw== [unisex]TWEED BLACK  BUCKET HAT\"><img src=\"http://fcrec.bunjang.io/img/2c2f2aba50a081b7b9d72295374b0b0a.jpg\" width=170 style=\"display:inline-block\" title=\"cvzxtllmGTglR+SVGjRiKw== [unisex]TWEED BLACK  BUCKET HAT\"><img src=\"http://fcrec.bunjang.io/img/84d2189ac05ff4309ba3eb027890ba03.jpg\" width=170 style=\"display:inline-block\" title=\"OH7asqBmkHaSxKb8mw/WNg== [unisex]GLENCHECH NAVY BUCKET HAT\"><img src=\"http://fcrec.bunjang.io/img/058602384824e1f94330ed960d0f227f.jpg\" width=170 style=\"display:inline-block\" title=\"VYGimxgPANog/nRMZ0O1mw== [unisex]STITCH WOOL BLACK BUCKET HAT\"><img src=\"http://fcrec.bunjang.io/img/1afc849f4fe736b8602aa275e5c46229.jpg\" width=170 style=\"display:inline-block\" title=\"RBm42X6EPR25ERPNqEj5mA== vienna layered anklet\"><img src=\"http://fcrec.bunjang.io/img/4e713d30a0f14a67e7023734b4b41422.jpg\" width=170 style=\"display:inline-block\" title=\"2AmJgXyJXsjaqr27jy08UA== [태민 착용] ball chain layered bracelet\"><img src=\"http://fcrec.bunjang.io/img/a82e692263dcadcac579d2115fb8e5ef.jpg\" width=170 style=\"display:inline-block\" title=\"QJ/0MTR30pqYMFSPRU/r9Q== [비비, 최수영, 조이현 착용] unbalance chain earring\"><img src=\"http://fcrec.bunjang.io/img/dacd126819f2ae790649ad9273795ab8.jpg\" width=170 style=\"display:inline-block\" title=\"b/pABsFJ4F4CuZJX6G3/wQ== [트와이스 미나, 오마이걸 아린&승희, 형원 착용] coral set ring\"><img src=\"http://fcrec.bunjang.io/img/27a0db6a36cf988b06d9078068d88c5c.jpg\" width=170 style=\"display:inline-block\" title=\"UqyVlzDDSbJLTH6fHqa1aQ== [오마이걸 유아&지호, 써니, SF9찬희, 우아 나나 착용] rainbow daisy bracelet\"><img src=\"http://fcrec.bunjang.io/img/8614d3c131baa4f1f920873e1cefc00e.jpg\" width=170 style=\"display:inline-block\" title=\"OOcVPtrWcvphW6ypSiY35w== JARDIN TEE_BLACK\"><img src=\"http://fcrec.bunjang.io/img/b8cbddc339cb5cf874c46edd23386fca.jpg\" width=170 style=\"display:inline-block\" title=\"ixyIBDNhGMYSmxcAbgqT9Q== SQUARE NECK TOP_BEIGE\"><img src=\"http://fcrec.bunjang.io/img/7efc7862216655eee4eff8db2e5f5ad8.jpg\" width=170 style=\"display:inline-block\" title=\"M1zbAnOt7jc662SV1NgIvw== PEARL TEE_PINK\"><img src=\"http://fcrec.bunjang.io/img/7efc7862216655eee4eff8db2e5f5ad8.jpg\" width=170 style=\"display:inline-block\" title=\"M1zbAnOt7jc662SV1NgIvw== PEARL TEE_PINK\"><img src=\"http://fcrec.bunjang.io/img/2a09f3c66c609e9e4b6028bb1e4dc811.jpg\" width=170 style=\"display:inline-block\" title=\"LsaI+amLHqw9C4MWNhaGvw== STITCH SLIP DRESS_DEEP GREEN\"><img src=\"http://fcrec.bunjang.io/img/76f0edb365ad6e1fb802d1d98bfc46d1.jpg\" width=170 style=\"display:inline-block\" title=\"Pm8QdAQI3RslPXz66xzrEA== KNOT BLOUSE_BLACK\"><img src=\"http://fcrec.bunjang.io/img/8755127d88c3c35d79f35a1ac24deed1.jpg\" width=170 style=\"display:inline-block\" title=\"gic+0IOksgB5X0QujAn2Eg== BOAT NECK WRAP DRESS_MINT\"><img src=\"http://fcrec.bunjang.io/img/d816bdfb2528912b75586e289899b2f9.jpg\" width=170 style=\"display:inline-block\" title=\"0wVpS6nhrNPHsRTw5nrwdQ== BAND SHIRRING BLOUSE_BLACK\"><img src=\"http://fcrec.bunjang.io/img/f42394ec6270089d24b49c8ac4d28fb5.jpg\" width=170 style=\"display:inline-block\" title=\"deysFg9h3LJx+5JwbjrO0A== TWIST PLEATS DRESS_BLACK\"><img src=\"http://fcrec.bunjang.io/img/a42a92adc4271e57ae8676ffbbe14083.jpg\" width=170 style=\"display:inline-block\" title=\"LPiNzHhqiH3twOSGdWnyZg== V-NECK VOLUME SLEEVE DRESS_BLACK\">"
      ],
      "text/plain": [
       "<IPython.core.display.HTML object>"
      ]
     },
     "metadata": {},
     "output_type": "display_data"
    },
    {
     "name": "stdout",
     "output_type": "stream",
     "text": [
      "Item-based Recommended Items\n"
     ]
    },
    {
     "data": {
      "text/html": [
       "<img src=\"http://fcrec.bunjang.io/img/4e713d30a0f14a67e7023734b4b41422.jpg\" width=170 style=\"display:inline-block\" title=\"2AmJgXyJXsjaqr27jy08UA== [태민 착용] ball chain layered bracelet\"><img src=\"http://fcrec.bunjang.io/img/4724d3f52721d7eda4c3f06b40ef0bcb.jpg\" width=170 style=\"display:inline-block\" title=\"O3w8pMtUuFh4CijDmoJnEQ== [박지훈, 배누리 착용] cross chain necklace\"><img src=\"http://fcrec.bunjang.io/img/27a0db6a36cf988b06d9078068d88c5c.jpg\" width=170 style=\"display:inline-block\" title=\"UqyVlzDDSbJLTH6fHqa1aQ== [오마이걸 유아&지호, 써니, SF9찬희, 우아 나나 착용] rainbow daisy bracelet\"><img src=\"http://fcrec.bunjang.io/img/21c820a1635b66d920de3ca0970ae57a.jpg\" width=170 style=\"display:inline-block\" title=\"V/a6ARC9FdloR65/WRCbWQ== [에스파 윈터, 오마이걸 아린, 최수영 착용] slim layered 3set ring\"><img src=\"http://fcrec.bunjang.io/img/2ebaa07714218757e215a0b1b53ee1ee.jpg\" width=170 style=\"display:inline-block\" title=\"SCF2ka2tzUeLu1nP7tjZkA== [문별 착용]unlock necklace\"><img src=\"http://fcrec.bunjang.io/img/058602384824e1f94330ed960d0f227f.jpg\" width=170 style=\"display:inline-block\" title=\"VYGimxgPANog/nRMZ0O1mw== [unisex]STITCH WOOL BLACK BUCKET HAT\"><img src=\"http://fcrec.bunjang.io/img/3e40e81dd49454b2d2a6753a9f8fe183.jpg\" width=170 style=\"display:inline-block\" title=\"aWj7pZmZ/uSuFUAfsa9YYw== [화사, ITZY 유나, 채령, 박지훈, 김우석 착용] cube ball chain bracelet\"><img src=\"http://fcrec.bunjang.io/img/99fa38dd8bf37e222e74a605f0042807.jpg\" width=170 style=\"display:inline-block\" title=\"1+pqWFazLqQAJSBMdZ8pMw== [이사배,유아 착용] [silver925] blossom bracelet\"><img src=\"http://fcrec.bunjang.io/img/9ab7b3c7e618828bf11c751f62f16225.jpg\" width=170 style=\"display:inline-block\" title=\"FEg0ZbsHNsKu9GU/RDnoSw== basel setting ring\"><img src=\"http://fcrec.bunjang.io/img/2c2f2aba50a081b7b9d72295374b0b0a.jpg\" width=170 style=\"display:inline-block\" title=\"cvzxtllmGTglR+SVGjRiKw== [unisex]TWEED BLACK  BUCKET HAT\"><img src=\"http://fcrec.bunjang.io/img/84748e39c4ee527a85f6b4df27108420.jpg\" width=170 style=\"display:inline-block\" title=\"53T/SDSS/Ypxr+t5INoeBg== [레드벨벳 웬디 착용] move pearl layered necklace\"><img src=\"http://fcrec.bunjang.io/img/2bc8939a30efd88ba4a167ce031b3e92.jpg\" width=170 style=\"display:inline-block\" title=\"BscjfsxKSSNmn++Yb1ZQVA== [류이서,지숙 착용][silver925]half pearl hook earring\"><img src=\"http://fcrec.bunjang.io/img/84d2189ac05ff4309ba3eb027890ba03.jpg\" width=170 style=\"display:inline-block\" title=\"OH7asqBmkHaSxKb8mw/WNg== [unisex]GLENCHECH NAVY BUCKET HAT\"><img src=\"http://fcrec.bunjang.io/img/a82e692263dcadcac579d2115fb8e5ef.jpg\" width=170 style=\"display:inline-block\" title=\"QJ/0MTR30pqYMFSPRU/r9Q== [비비, 최수영, 조이현 착용] unbalance chain earring\"><img src=\"http://fcrec.bunjang.io/img/dacd126819f2ae790649ad9273795ab8.jpg\" width=170 style=\"display:inline-block\" title=\"b/pABsFJ4F4CuZJX6G3/wQ== [트와이스 미나, 오마이걸 아린&승희, 형원 착용] coral set ring\"><img src=\"http://fcrec.bunjang.io/img/349f54bec666dd48824bcd2bb38836b9.jpg\" width=170 style=\"display:inline-block\" title=\"h6vS+t8GQKH1htEFjcNcHA== [김아중, 아이엠, 우즈(조승연) 착용] honeybee one touch earring\"><img src=\"http://fcrec.bunjang.io/img/d8eef6ba4d5a07499e7a8c86ff2d9451.jpg\" width=170 style=\"display:inline-block\" title=\"BwHNO+qX1MWcqRV2wS9ipw== EGG MINI BAG\"><img src=\"http://fcrec.bunjang.io/img/1afc849f4fe736b8602aa275e5c46229.jpg\" width=170 style=\"display:inline-block\" title=\"RBm42X6EPR25ERPNqEj5mA== vienna layered anklet\"><img src=\"http://fcrec.bunjang.io/img/a46e4cf979c0f250822554886abaf8c5.jpg\" width=170 style=\"display:inline-block\" title=\"bLxfG6z17UPLSd4dcXYLKA== [웬디, 기현, 문별, 이승윤, 소연 착용] daisy silver ball bracelet\"><img src=\"http://fcrec.bunjang.io/img/426d9684526df07bc59d9e096746f5b2.jpg\" width=170 style=\"display:inline-block\" title=\"z2PlBh1OVXYxumappZ+isw== [지호,아린,미연,미주 착용] [silver925] Chupa Chups necklace\">"
      ],
      "text/plain": [
       "<IPython.core.display.HTML object>"
      ]
     },
     "metadata": {},
     "output_type": "display_data"
    },
    {
     "name": "stdout",
     "output_type": "stream",
     "text": [
      "User-based Recommended Items\n"
     ]
    },
    {
     "data": {
      "text/html": [
       "<img src=\"http://fcrec.bunjang.io/img/5a0c81252a99ea4f6394674735ff1bc1.jpg\" width=170 style=\"display:inline-block\" title=\"0kHEjzwPj67N2HkMW6pyGA== V-NECK VOLUME SLEEVE DRESS_YELLOW\"><img src=\"http://fcrec.bunjang.io/img/4ca63ddcbb1ee6fa5cf9e4eb7cf19f70.jpg\" width=170 style=\"display:inline-block\" title=\"qj5CiXwubkY6DBzuF+Jk8w== 레이어드 하프 튜닉 셔츠 (화이트)\"><img src=\"http://fcrec.bunjang.io/img/9c829166bde4903a6cc83518678027a1.jpg\" width=170 style=\"display:inline-block\" title=\"uUc62iyQPexPQ2fOleKAyA== SHIRRING LONG DRESS_YELLOW\"><img src=\"http://fcrec.bunjang.io/img/40362207e0bbbe6492203285ee9277a9.jpg\" width=170 style=\"display:inline-block\" title=\"/qI0XuINmuMpVYk+S+7+cw== 시어 울 브이 넥 티셔츠 (크림 화이트)\"><img src=\"http://fcrec.bunjang.io/img/7efc7862216655eee4eff8db2e5f5ad8.jpg\" width=170 style=\"display:inline-block\" title=\"M1zbAnOt7jc662SV1NgIvw== PEARL TEE_PINK\"><img src=\"http://fcrec.bunjang.io/img/8614d3c131baa4f1f920873e1cefc00e.jpg\" width=170 style=\"display:inline-block\" title=\"OOcVPtrWcvphW6ypSiY35w== JARDIN TEE_BLACK\"><img src=\"http://fcrec.bunjang.io/img/21793909a05ac7d5dc99cfb77fb3b5cd.jpg\" width=170 style=\"display:inline-block\" title=\"ZzNuylOodw1fl+gewxC3Mg== SHORT SLEEVE CORSET DRESS_YELLOW\"><img src=\"http://fcrec.bunjang.io/img/eab6a5e83b7b36382e809f7e592de777.jpg\" width=170 style=\"display:inline-block\" title=\"plDZql2hJ9GZ2mzFnLeWwQ== 블렌드 울 원 턱 슬랙스 (아이보리)\"><img src=\"http://fcrec.bunjang.io/img/c3eae859d3bb3385e5b27a74b0ebba9d.jpg\" width=170 style=\"display:inline-block\" title=\"xk5yln2aZO2UJtmQtFjTuA== 20FW Easy Pants / Beige\"><img src=\"http://fcrec.bunjang.io/img/ee8222e00f548390783c87696fb7ffa5.jpg\" width=170 style=\"display:inline-block\" title=\"zWhtgHI1sswSiOR7l5ZYMw== 플라밍 7부 여성페어 레드\"><img src=\"http://fcrec.bunjang.io/img/8c86ff24844ed8854048a3fc53a51831.jpg\" width=170 style=\"display:inline-block\" title=\"CYzp6h+w4JYdqqTLbpyxpQ== 링클 시어서커 롱 셔츠 (애쉬 화이트)\"><img src=\"http://fcrec.bunjang.io/img/9b5a9d80f7bcbaa06ba27f40552ec152.jpg\" width=170 style=\"display:inline-block\" title=\"MK+N6JRV2v9gOc/hl0PS5Q== TWIST PLEATS DRESS_DEEP GREEN\"><img src=\"http://fcrec.bunjang.io/img/c865853384786499084946e4630af95b.jpg\" width=170 style=\"display:inline-block\" title=\"TeLDoZOhJG/0drVRIL0KGQ== BACK RIBBON STITCH JACKET_WHITE\"><img src=\"http://fcrec.bunjang.io/img/3e5c4f9f2d08232510110d479b7dedf4.jpg\" width=170 style=\"display:inline-block\" title=\"TyKh079lXv3TcXsOhiwy9g== SLIP STITCH PLEATS DRESS_BLACK\"><img src=\"http://fcrec.bunjang.io/img/a42a92adc4271e57ae8676ffbbe14083.jpg\" width=170 style=\"display:inline-block\" title=\"LPiNzHhqiH3twOSGdWnyZg== V-NECK VOLUME SLEEVE DRESS_BLACK\"><img src=\"http://fcrec.bunjang.io/img/2a09f3c66c609e9e4b6028bb1e4dc811.jpg\" width=170 style=\"display:inline-block\" title=\"LsaI+amLHqw9C4MWNhaGvw== STITCH SLIP DRESS_DEEP GREEN\"><img src=\"http://fcrec.bunjang.io/img/76f0edb365ad6e1fb802d1d98bfc46d1.jpg\" width=170 style=\"display:inline-block\" title=\"Pm8QdAQI3RslPXz66xzrEA== KNOT BLOUSE_BLACK\"><img src=\"http://fcrec.bunjang.io/img/0a0a9e7ad86aa06dde8efdecbe6e5cf0.jpg\" width=170 style=\"display:inline-block\" title=\"4a/gsnEM+NmNYNcQ3311zQ== BACK RIBBON STITCH JACKET_BLACK\"><img src=\"http://fcrec.bunjang.io/img/8b42a8200a5b70240a310bc076a5f262.jpg\" width=170 style=\"display:inline-block\" title=\"d9C3/DbVvOhRxC1T7P5W5w== SLIP STITCH PLEATS DRESS_IVORY\"><img src=\"http://fcrec.bunjang.io/img/f42394ec6270089d24b49c8ac4d28fb5.jpg\" width=170 style=\"display:inline-block\" title=\"deysFg9h3LJx+5JwbjrO0A== TWIST PLEATS DRESS_BLACK\">"
      ],
      "text/plain": [
       "<IPython.core.display.HTML object>"
      ]
     },
     "metadata": {},
     "output_type": "display_data"
    }
   ],
   "source": [
    "print('User Hisotry')\n",
    "displayItemInRows(result)\n",
    "\n",
    "print('Item-based Recommended Items')\n",
    "displayItemInRows(result1)\n",
    "\n",
    "print('User-based Recommended Items')\n",
    "displayItemInRows(result2)"
   ]
  },
  {
   "cell_type": "code",
   "execution_count": 9,
   "metadata": {},
   "outputs": [
    {
     "name": "stdout",
     "output_type": "stream",
     "text": [
      "User Hisotry\n"
     ]
    },
    {
     "data": {
      "text/html": [
       "<img src=\"http://fcrec.bunjang.io/img/99fa38dd8bf37e222e74a605f0042807.jpg\" width=170 style=\"display:inline-block\" title=\"1+pqWFazLqQAJSBMdZ8pMw== [이사배,유아 착용] [silver925] blossom bracelet\"><img src=\"http://fcrec.bunjang.io/img/2c2f2aba50a081b7b9d72295374b0b0a.jpg\" width=170 style=\"display:inline-block\" title=\"cvzxtllmGTglR+SVGjRiKw== [unisex]TWEED BLACK  BUCKET HAT\"><img src=\"http://fcrec.bunjang.io/img/2c2f2aba50a081b7b9d72295374b0b0a.jpg\" width=170 style=\"display:inline-block\" title=\"cvzxtllmGTglR+SVGjRiKw== [unisex]TWEED BLACK  BUCKET HAT\"><img src=\"http://fcrec.bunjang.io/img/84d2189ac05ff4309ba3eb027890ba03.jpg\" width=170 style=\"display:inline-block\" title=\"OH7asqBmkHaSxKb8mw/WNg== [unisex]GLENCHECH NAVY BUCKET HAT\"><img src=\"http://fcrec.bunjang.io/img/058602384824e1f94330ed960d0f227f.jpg\" width=170 style=\"display:inline-block\" title=\"VYGimxgPANog/nRMZ0O1mw== [unisex]STITCH WOOL BLACK BUCKET HAT\"><img src=\"http://fcrec.bunjang.io/img/1afc849f4fe736b8602aa275e5c46229.jpg\" width=170 style=\"display:inline-block\" title=\"RBm42X6EPR25ERPNqEj5mA== vienna layered anklet\"><img src=\"http://fcrec.bunjang.io/img/4e713d30a0f14a67e7023734b4b41422.jpg\" width=170 style=\"display:inline-block\" title=\"2AmJgXyJXsjaqr27jy08UA== [태민 착용] ball chain layered bracelet\"><img src=\"http://fcrec.bunjang.io/img/a82e692263dcadcac579d2115fb8e5ef.jpg\" width=170 style=\"display:inline-block\" title=\"QJ/0MTR30pqYMFSPRU/r9Q== [비비, 최수영, 조이현 착용] unbalance chain earring\"><img src=\"http://fcrec.bunjang.io/img/dacd126819f2ae790649ad9273795ab8.jpg\" width=170 style=\"display:inline-block\" title=\"b/pABsFJ4F4CuZJX6G3/wQ== [트와이스 미나, 오마이걸 아린&승희, 형원 착용] coral set ring\"><img src=\"http://fcrec.bunjang.io/img/27a0db6a36cf988b06d9078068d88c5c.jpg\" width=170 style=\"display:inline-block\" title=\"UqyVlzDDSbJLTH6fHqa1aQ== [오마이걸 유아&지호, 써니, SF9찬희, 우아 나나 착용] rainbow daisy bracelet\"><img src=\"http://fcrec.bunjang.io/img/8614d3c131baa4f1f920873e1cefc00e.jpg\" width=170 style=\"display:inline-block\" title=\"OOcVPtrWcvphW6ypSiY35w== JARDIN TEE_BLACK\"><img src=\"http://fcrec.bunjang.io/img/b8cbddc339cb5cf874c46edd23386fca.jpg\" width=170 style=\"display:inline-block\" title=\"ixyIBDNhGMYSmxcAbgqT9Q== SQUARE NECK TOP_BEIGE\"><img src=\"http://fcrec.bunjang.io/img/7efc7862216655eee4eff8db2e5f5ad8.jpg\" width=170 style=\"display:inline-block\" title=\"M1zbAnOt7jc662SV1NgIvw== PEARL TEE_PINK\"><img src=\"http://fcrec.bunjang.io/img/7efc7862216655eee4eff8db2e5f5ad8.jpg\" width=170 style=\"display:inline-block\" title=\"M1zbAnOt7jc662SV1NgIvw== PEARL TEE_PINK\"><img src=\"http://fcrec.bunjang.io/img/2a09f3c66c609e9e4b6028bb1e4dc811.jpg\" width=170 style=\"display:inline-block\" title=\"LsaI+amLHqw9C4MWNhaGvw== STITCH SLIP DRESS_DEEP GREEN\"><img src=\"http://fcrec.bunjang.io/img/76f0edb365ad6e1fb802d1d98bfc46d1.jpg\" width=170 style=\"display:inline-block\" title=\"Pm8QdAQI3RslPXz66xzrEA== KNOT BLOUSE_BLACK\"><img src=\"http://fcrec.bunjang.io/img/8755127d88c3c35d79f35a1ac24deed1.jpg\" width=170 style=\"display:inline-block\" title=\"gic+0IOksgB5X0QujAn2Eg== BOAT NECK WRAP DRESS_MINT\"><img src=\"http://fcrec.bunjang.io/img/d816bdfb2528912b75586e289899b2f9.jpg\" width=170 style=\"display:inline-block\" title=\"0wVpS6nhrNPHsRTw5nrwdQ== BAND SHIRRING BLOUSE_BLACK\"><img src=\"http://fcrec.bunjang.io/img/f42394ec6270089d24b49c8ac4d28fb5.jpg\" width=170 style=\"display:inline-block\" title=\"deysFg9h3LJx+5JwbjrO0A== TWIST PLEATS DRESS_BLACK\"><img src=\"http://fcrec.bunjang.io/img/a42a92adc4271e57ae8676ffbbe14083.jpg\" width=170 style=\"display:inline-block\" title=\"LPiNzHhqiH3twOSGdWnyZg== V-NECK VOLUME SLEEVE DRESS_BLACK\">"
      ],
      "text/plain": [
       "<IPython.core.display.HTML object>"
      ]
     },
     "metadata": {},
     "output_type": "display_data"
    },
    {
     "name": "stdout",
     "output_type": "stream",
     "text": [
      "Item-based Recommended Items\n"
     ]
    },
    {
     "data": {
      "text/html": [
       "<img src=\"http://fcrec.bunjang.io/img/4e713d30a0f14a67e7023734b4b41422.jpg\" width=170 style=\"display:inline-block\" title=\"2AmJgXyJXsjaqr27jy08UA== [태민 착용] ball chain layered bracelet\"><img src=\"http://fcrec.bunjang.io/img/4724d3f52721d7eda4c3f06b40ef0bcb.jpg\" width=170 style=\"display:inline-block\" title=\"O3w8pMtUuFh4CijDmoJnEQ== [박지훈, 배누리 착용] cross chain necklace\"><img src=\"http://fcrec.bunjang.io/img/27a0db6a36cf988b06d9078068d88c5c.jpg\" width=170 style=\"display:inline-block\" title=\"UqyVlzDDSbJLTH6fHqa1aQ== [오마이걸 유아&지호, 써니, SF9찬희, 우아 나나 착용] rainbow daisy bracelet\"><img src=\"http://fcrec.bunjang.io/img/21c820a1635b66d920de3ca0970ae57a.jpg\" width=170 style=\"display:inline-block\" title=\"V/a6ARC9FdloR65/WRCbWQ== [에스파 윈터, 오마이걸 아린, 최수영 착용] slim layered 3set ring\"><img src=\"http://fcrec.bunjang.io/img/2ebaa07714218757e215a0b1b53ee1ee.jpg\" width=170 style=\"display:inline-block\" title=\"SCF2ka2tzUeLu1nP7tjZkA== [문별 착용]unlock necklace\"><img src=\"http://fcrec.bunjang.io/img/058602384824e1f94330ed960d0f227f.jpg\" width=170 style=\"display:inline-block\" title=\"VYGimxgPANog/nRMZ0O1mw== [unisex]STITCH WOOL BLACK BUCKET HAT\"><img src=\"http://fcrec.bunjang.io/img/3e40e81dd49454b2d2a6753a9f8fe183.jpg\" width=170 style=\"display:inline-block\" title=\"aWj7pZmZ/uSuFUAfsa9YYw== [화사, ITZY 유나, 채령, 박지훈, 김우석 착용] cube ball chain bracelet\"><img src=\"http://fcrec.bunjang.io/img/99fa38dd8bf37e222e74a605f0042807.jpg\" width=170 style=\"display:inline-block\" title=\"1+pqWFazLqQAJSBMdZ8pMw== [이사배,유아 착용] [silver925] blossom bracelet\"><img src=\"http://fcrec.bunjang.io/img/9ab7b3c7e618828bf11c751f62f16225.jpg\" width=170 style=\"display:inline-block\" title=\"FEg0ZbsHNsKu9GU/RDnoSw== basel setting ring\"><img src=\"http://fcrec.bunjang.io/img/2c2f2aba50a081b7b9d72295374b0b0a.jpg\" width=170 style=\"display:inline-block\" title=\"cvzxtllmGTglR+SVGjRiKw== [unisex]TWEED BLACK  BUCKET HAT\"><img src=\"http://fcrec.bunjang.io/img/84748e39c4ee527a85f6b4df27108420.jpg\" width=170 style=\"display:inline-block\" title=\"53T/SDSS/Ypxr+t5INoeBg== [레드벨벳 웬디 착용] move pearl layered necklace\"><img src=\"http://fcrec.bunjang.io/img/2bc8939a30efd88ba4a167ce031b3e92.jpg\" width=170 style=\"display:inline-block\" title=\"BscjfsxKSSNmn++Yb1ZQVA== [류이서,지숙 착용][silver925]half pearl hook earring\"><img src=\"http://fcrec.bunjang.io/img/84d2189ac05ff4309ba3eb027890ba03.jpg\" width=170 style=\"display:inline-block\" title=\"OH7asqBmkHaSxKb8mw/WNg== [unisex]GLENCHECH NAVY BUCKET HAT\"><img src=\"http://fcrec.bunjang.io/img/a82e692263dcadcac579d2115fb8e5ef.jpg\" width=170 style=\"display:inline-block\" title=\"QJ/0MTR30pqYMFSPRU/r9Q== [비비, 최수영, 조이현 착용] unbalance chain earring\"><img src=\"http://fcrec.bunjang.io/img/dacd126819f2ae790649ad9273795ab8.jpg\" width=170 style=\"display:inline-block\" title=\"b/pABsFJ4F4CuZJX6G3/wQ== [트와이스 미나, 오마이걸 아린&승희, 형원 착용] coral set ring\"><img src=\"http://fcrec.bunjang.io/img/349f54bec666dd48824bcd2bb38836b9.jpg\" width=170 style=\"display:inline-block\" title=\"h6vS+t8GQKH1htEFjcNcHA== [김아중, 아이엠, 우즈(조승연) 착용] honeybee one touch earring\"><img src=\"http://fcrec.bunjang.io/img/d8eef6ba4d5a07499e7a8c86ff2d9451.jpg\" width=170 style=\"display:inline-block\" title=\"BwHNO+qX1MWcqRV2wS9ipw== EGG MINI BAG\"><img src=\"http://fcrec.bunjang.io/img/1afc849f4fe736b8602aa275e5c46229.jpg\" width=170 style=\"display:inline-block\" title=\"RBm42X6EPR25ERPNqEj5mA== vienna layered anklet\"><img src=\"http://fcrec.bunjang.io/img/a46e4cf979c0f250822554886abaf8c5.jpg\" width=170 style=\"display:inline-block\" title=\"bLxfG6z17UPLSd4dcXYLKA== [웬디, 기현, 문별, 이승윤, 소연 착용] daisy silver ball bracelet\"><img src=\"http://fcrec.bunjang.io/img/426d9684526df07bc59d9e096746f5b2.jpg\" width=170 style=\"display:inline-block\" title=\"z2PlBh1OVXYxumappZ+isw== [지호,아린,미연,미주 착용] [silver925] Chupa Chups necklace\">"
      ],
      "text/plain": [
       "<IPython.core.display.HTML object>"
      ]
     },
     "metadata": {},
     "output_type": "display_data"
    },
    {
     "name": "stdout",
     "output_type": "stream",
     "text": [
      "User-based Recommended Items\n"
     ]
    },
    {
     "data": {
      "text/html": [
       "<img src=\"http://fcrec.bunjang.io/img/5a0c81252a99ea4f6394674735ff1bc1.jpg\" width=170 style=\"display:inline-block\" title=\"0kHEjzwPj67N2HkMW6pyGA== V-NECK VOLUME SLEEVE DRESS_YELLOW\"><img src=\"http://fcrec.bunjang.io/img/4ca63ddcbb1ee6fa5cf9e4eb7cf19f70.jpg\" width=170 style=\"display:inline-block\" title=\"qj5CiXwubkY6DBzuF+Jk8w== 레이어드 하프 튜닉 셔츠 (화이트)\"><img src=\"http://fcrec.bunjang.io/img/9c829166bde4903a6cc83518678027a1.jpg\" width=170 style=\"display:inline-block\" title=\"uUc62iyQPexPQ2fOleKAyA== SHIRRING LONG DRESS_YELLOW\"><img src=\"http://fcrec.bunjang.io/img/40362207e0bbbe6492203285ee9277a9.jpg\" width=170 style=\"display:inline-block\" title=\"/qI0XuINmuMpVYk+S+7+cw== 시어 울 브이 넥 티셔츠 (크림 화이트)\"><img src=\"http://fcrec.bunjang.io/img/7efc7862216655eee4eff8db2e5f5ad8.jpg\" width=170 style=\"display:inline-block\" title=\"M1zbAnOt7jc662SV1NgIvw== PEARL TEE_PINK\"><img src=\"http://fcrec.bunjang.io/img/8614d3c131baa4f1f920873e1cefc00e.jpg\" width=170 style=\"display:inline-block\" title=\"OOcVPtrWcvphW6ypSiY35w== JARDIN TEE_BLACK\"><img src=\"http://fcrec.bunjang.io/img/21793909a05ac7d5dc99cfb77fb3b5cd.jpg\" width=170 style=\"display:inline-block\" title=\"ZzNuylOodw1fl+gewxC3Mg== SHORT SLEEVE CORSET DRESS_YELLOW\"><img src=\"http://fcrec.bunjang.io/img/eab6a5e83b7b36382e809f7e592de777.jpg\" width=170 style=\"display:inline-block\" title=\"plDZql2hJ9GZ2mzFnLeWwQ== 블렌드 울 원 턱 슬랙스 (아이보리)\"><img src=\"http://fcrec.bunjang.io/img/c3eae859d3bb3385e5b27a74b0ebba9d.jpg\" width=170 style=\"display:inline-block\" title=\"xk5yln2aZO2UJtmQtFjTuA== 20FW Easy Pants / Beige\"><img src=\"http://fcrec.bunjang.io/img/ee8222e00f548390783c87696fb7ffa5.jpg\" width=170 style=\"display:inline-block\" title=\"zWhtgHI1sswSiOR7l5ZYMw== 플라밍 7부 여성페어 레드\"><img src=\"http://fcrec.bunjang.io/img/8c86ff24844ed8854048a3fc53a51831.jpg\" width=170 style=\"display:inline-block\" title=\"CYzp6h+w4JYdqqTLbpyxpQ== 링클 시어서커 롱 셔츠 (애쉬 화이트)\"><img src=\"http://fcrec.bunjang.io/img/9b5a9d80f7bcbaa06ba27f40552ec152.jpg\" width=170 style=\"display:inline-block\" title=\"MK+N6JRV2v9gOc/hl0PS5Q== TWIST PLEATS DRESS_DEEP GREEN\"><img src=\"http://fcrec.bunjang.io/img/c865853384786499084946e4630af95b.jpg\" width=170 style=\"display:inline-block\" title=\"TeLDoZOhJG/0drVRIL0KGQ== BACK RIBBON STITCH JACKET_WHITE\"><img src=\"http://fcrec.bunjang.io/img/3e5c4f9f2d08232510110d479b7dedf4.jpg\" width=170 style=\"display:inline-block\" title=\"TyKh079lXv3TcXsOhiwy9g== SLIP STITCH PLEATS DRESS_BLACK\"><img src=\"http://fcrec.bunjang.io/img/a42a92adc4271e57ae8676ffbbe14083.jpg\" width=170 style=\"display:inline-block\" title=\"LPiNzHhqiH3twOSGdWnyZg== V-NECK VOLUME SLEEVE DRESS_BLACK\"><img src=\"http://fcrec.bunjang.io/img/2a09f3c66c609e9e4b6028bb1e4dc811.jpg\" width=170 style=\"display:inline-block\" title=\"LsaI+amLHqw9C4MWNhaGvw== STITCH SLIP DRESS_DEEP GREEN\"><img src=\"http://fcrec.bunjang.io/img/76f0edb365ad6e1fb802d1d98bfc46d1.jpg\" width=170 style=\"display:inline-block\" title=\"Pm8QdAQI3RslPXz66xzrEA== KNOT BLOUSE_BLACK\"><img src=\"http://fcrec.bunjang.io/img/0a0a9e7ad86aa06dde8efdecbe6e5cf0.jpg\" width=170 style=\"display:inline-block\" title=\"4a/gsnEM+NmNYNcQ3311zQ== BACK RIBBON STITCH JACKET_BLACK\"><img src=\"http://fcrec.bunjang.io/img/8b42a8200a5b70240a310bc076a5f262.jpg\" width=170 style=\"display:inline-block\" title=\"d9C3/DbVvOhRxC1T7P5W5w== SLIP STITCH PLEATS DRESS_IVORY\"><img src=\"http://fcrec.bunjang.io/img/f42394ec6270089d24b49c8ac4d28fb5.jpg\" width=170 style=\"display:inline-block\" title=\"deysFg9h3LJx+5JwbjrO0A== TWIST PLEATS DRESS_BLACK\">"
      ],
      "text/plain": [
       "<IPython.core.display.HTML object>"
      ]
     },
     "metadata": {},
     "output_type": "display_data"
    },
    {
     "data": {
      "text/html": [
       "<img src=\"http://fcrec.bunjang.io/img/9ca22c0a591de81ab266d4c4339ee9e7.jpg\" width=170 style=\"display:inline-block\" title=\"2CVK149IpOM6CbgqOKIFsQ== 크록스 크록밴드 클로그 11016-1AS\"><img src=\"http://fcrec.bunjang.io/img/ca8b40a1d46e663b557cd60d35036da9.jpg\" width=170 style=\"display:inline-block\" title=\"c7ST2OTBxzSc2w0bxM0rXg== ONE WAY PLEATS SKIRT_BLUE\"><img src=\"http://fcrec.bunjang.io/img/9c829166bde4903a6cc83518678027a1.jpg\" width=170 style=\"display:inline-block\" title=\"uUc62iyQPexPQ2fOleKAyA== SHIRRING LONG DRESS_YELLOW\"><img src=\"http://fcrec.bunjang.io/img/7efc7862216655eee4eff8db2e5f5ad8.jpg\" width=170 style=\"display:inline-block\" title=\"M1zbAnOt7jc662SV1NgIvw== PEARL TEE_PINK\"><img src=\"http://fcrec.bunjang.io/img/cb24a70dcb86105a105597e7ee857c4f.jpg\" width=170 style=\"display:inline-block\" title=\"TrvONysJ8twFpIx548k96A== 살랑팬티 medium | 6cm 2SET\"><img src=\"http://fcrec.bunjang.io/img/6eab2d2aa51461ab92fc9eda979f36ed.jpg\" width=170 style=\"display:inline-block\" title=\"nz9BSao7G7eBqIOWaFIoLw== KANGAROO MINI SACOCHE BAG 캥거루 미니 사코슈백(blue)\"><img src=\"http://fcrec.bunjang.io/img/1aad501047363fa5f0f36a2426de7bce.jpg\" width=170 style=\"display:inline-block\" title=\"ocX/ZLLd+YiHsNWLnqFndw== 미니멀프로젝트 로버스트 헤비 오버핏 반팔티셔츠 MST127 / 8color\"><img src=\"http://fcrec.bunjang.io/img/448c83bc86da13bac652376c11252e50.jpg\" width=170 style=\"display:inline-block\" title=\"eGswt/Pi+TanyccW7dI/jQ== Rei Mesh Short Sleeves Knit_Ivory\"><img src=\"http://fcrec.bunjang.io/img/e4e89557afeb23b8635435250e621f86.jpg\" width=170 style=\"display:inline-block\" title=\"rnJdZy2+RKJIK6H4IpD21w== TSHIRT  DDANJI  IVORY\"><img src=\"http://fcrec.bunjang.io/img/ec41dde879e039eeef49d03746d94baf.jpg\" width=170 style=\"display:inline-block\" title=\"3T96xK6E7Fv6B92/RUOaaw== ETERNITE TEE_BLACK\"><img src=\"http://fcrec.bunjang.io/img/b3e7b279e24da7eab60081c32a467d85.jpg\" width=170 style=\"display:inline-block\" title=\"MFQjCtM7WzCxBvkkMezUtw== SHIRRING LONG DRESS_BLACK\"><img src=\"http://fcrec.bunjang.io/img/c865853384786499084946e4630af95b.jpg\" width=170 style=\"display:inline-block\" title=\"TeLDoZOhJG/0drVRIL0KGQ== BACK RIBBON STITCH JACKET_WHITE\"><img src=\"http://fcrec.bunjang.io/img/3e5c4f9f2d08232510110d479b7dedf4.jpg\" width=170 style=\"display:inline-block\" title=\"TyKh079lXv3TcXsOhiwy9g== SLIP STITCH PLEATS DRESS_BLACK\"><img src=\"http://fcrec.bunjang.io/img/f797f6912d826d394c8a982aace3b362.jpg\" width=170 style=\"display:inline-block\" title=\"aCR/GxLyWvLXltHVYt1eWA== 클래식 초당옥수수 10개/15개/20개\"><img src=\"http://fcrec.bunjang.io/img/8b1c743bd233c6d5863c86a8c7a89858.jpg\" width=170 style=\"display:inline-block\" title=\"fp/4aK/Un6QDGWuSZrSK5w== PEARL TEE_BLACK\"><img src=\"http://fcrec.bunjang.io/img/a42a92adc4271e57ae8676ffbbe14083.jpg\" width=170 style=\"display:inline-block\" title=\"LPiNzHhqiH3twOSGdWnyZg== V-NECK VOLUME SLEEVE DRESS_BLACK\"><img src=\"http://fcrec.bunjang.io/img/2a09f3c66c609e9e4b6028bb1e4dc811.jpg\" width=170 style=\"display:inline-block\" title=\"LsaI+amLHqw9C4MWNhaGvw== STITCH SLIP DRESS_DEEP GREEN\"><img src=\"http://fcrec.bunjang.io/img/0a0a9e7ad86aa06dde8efdecbe6e5cf0.jpg\" width=170 style=\"display:inline-block\" title=\"4a/gsnEM+NmNYNcQ3311zQ== BACK RIBBON STITCH JACKET_BLACK\"><img src=\"http://fcrec.bunjang.io/img/0db7e894df84d40ee10f30754f392d6a.jpg\" width=170 style=\"display:inline-block\" title=\"WNUrqWLNZJbLjDPETqX5DQ== Daisy Volume Puff Short Sleeves Knit_Navy\"><img src=\"http://fcrec.bunjang.io/img/8b42a8200a5b70240a310bc076a5f262.jpg\" width=170 style=\"display:inline-block\" title=\"d9C3/DbVvOhRxC1T7P5W5w== SLIP STITCH PLEATS DRESS_IVORY\">"
      ],
      "text/plain": [
       "<IPython.core.display.HTML object>"
      ]
     },
     "metadata": {},
     "output_type": "display_data"
    }
   ],
   "source": [
    "query3 = '''\n",
    "    with rec as (\n",
    "        select b.item_no, sum(sim * event_weight * time_weight) score\n",
    "        from (\n",
    "            select b.user_no, sum(a.w * b.w) sim\n",
    "            from cmc_user_product_click_w a join cmc_user_product_click_w b on a.item_no = b.item_no and a.user_no != b.user_no \n",
    "            where a.user_no = '++MXKfwkOw4VFn9HkVCRrw=='\n",
    "            group by b.user_no\n",
    "            order by sim desc\n",
    "            limit 20 ) a\n",
    "            join (\n",
    "            select user_no, item_no,\n",
    "                case \n",
    "                    when event_name = 'purchase_success' then 3\n",
    "                    when event_name = 'add_to_cart' then 2\n",
    "                    when event_name = 'like_item' then 1\n",
    "                end event_weight,\n",
    "                pow(0.9, (date_part('day', to_timestamp('2021-07-25', 'YYYY-MM-DD') - event_timestamp) * 24 + date_part('hour', to_timestamp('2021-07-25', 'YYYY-MM-DD') - event_timestamp))/12)  time_weight\n",
    "            from  cmc_event\n",
    "            where event_timestamp between '2021-07-18' and '2021-07-25'\n",
    "                and event_name in ('purchase_success', 'like_item', 'add_to_cart')\n",
    "                ) b on b.user_no = a.user_no \n",
    "        group by b.item_no\n",
    "        order by score desc \n",
    "        limit 20)\n",
    "    select a.score, b.*\n",
    "    from rec a join cmc_product b on a.item_no = b.item_no\n",
    "    '''\n",
    "\n",
    "result3 = executeQuery(query3)\n",
    "\n",
    "print('User Hisotry')\n",
    "displayItemInRows(result)\n",
    "\n",
    "print('Item-based Recommended Items')\n",
    "displayItemInRows(result1)\n",
    "\n",
    "print('User-based Recommended Items')\n",
    "displayItemInRows(result2)\n",
    "\n",
    "displayItemInRows(result3)"
   ]
  }
 ],
 "metadata": {
  "interpreter": {
   "hash": "ac2eaa0ea0ebeafcc7822e65e46aa9d4f966f30b695406963e145ea4a91cd4fc"
  },
  "kernelspec": {
   "display_name": "Python 3.9.6 64-bit",
   "name": "python3"
  },
  "language_info": {
   "codemirror_mode": {
    "name": "ipython",
    "version": 3
   },
   "file_extension": ".py",
   "mimetype": "text/x-python",
   "name": "python",
   "nbconvert_exporter": "python",
   "pygments_lexer": "ipython3",
   "version": "3.9.6"
  },
  "orig_nbformat": 4
 },
 "nbformat": 4,
 "nbformat_minor": 2
}
